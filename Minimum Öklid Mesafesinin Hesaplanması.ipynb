{
  "nbformat": 4,
  "nbformat_minor": 0,
  "metadata": {
    "colab": {
      "provenance": [],
      "authorship_tag": "ABX9TyPTGlx8GN8gQOcPEYh/RtlZ",
      "include_colab_link": true
    },
    "kernelspec": {
      "name": "python3",
      "display_name": "Python 3"
    },
    "language_info": {
      "name": "python"
    }
  },
  "cells": [
    {
      "cell_type": "markdown",
      "metadata": {
        "id": "view-in-github",
        "colab_type": "text"
      },
      "source": [
        "<a href=\"https://colab.research.google.com/github/sunakoc/CyberStart/blob/main/Minimum%20%C3%96klid%20Mesafesinin%20Hesaplanmas%C4%B1.ipynb\" target=\"_parent\"><img src=\"https://colab.research.google.com/assets/colab-badge.svg\" alt=\"Open In Colab\"/></a>"
      ]
    },
    {
      "cell_type": "code",
      "execution_count": 2,
      "metadata": {
        "id": "0DKyDDQKb7li",
        "outputId": "0e2722b6-7c22-4ba4-cc96-6adef358320b",
        "colab": {
          "base_uri": "https://localhost:8080/"
        }
      },
      "outputs": [
        {
          "output_type": "stream",
          "name": "stdout",
          "text": [
            "Points: [(1, 2), (3, 4), (5, 6), (7, 8)]\n",
            "Distances: [2.8284271247461903, 5.656854249492381, 8.48528137423857, 2.8284271247461903, 5.656854249492381, 2.8284271247461903]\n",
            "Minimum distance: 2.83\n"
          ]
        }
      ],
      "source": [
        "def euclideanDistance(point1, point2):\n",
        "    \"\"\"\n",
        "    Calculates the Euclidean distance between two points represented as tuples.\n",
        "    Args:\n",
        "        point1 (tuple): First point (x1, y1).\n",
        "        point2 (tuple): Second point (x2, y2).\n",
        "    Returns:\n",
        "        float: Euclidean distance between the two points.\n",
        "    \"\"\"\n",
        "    x1, y1 = point1\n",
        "    x2, y2 = point2\n",
        "    return ((x2 - x1) ** 2 + (y2 - y1) ** 2) ** 0.5\n",
        "\n",
        "# Define points (replace with your own points)\n",
        "points = [(1, 2), (3, 4), (5, 6), (7, 8)]\n",
        "\n",
        "# Calculate distances between all point pairs\n",
        "distances = []\n",
        "for i in range(len(points)):\n",
        "    for j in range(i + 1, len(points)):\n",
        "        dist = euclideanDistance(points[i], points[j])\n",
        "        distances.append(dist)\n",
        "\n",
        "# Find the minimum distance\n",
        "min_distance = min(distances)\n",
        "\n",
        "print(f\"Points: {points}\")\n",
        "print(f\"Distances: {distances}\")\n",
        "print(f\"Minimum distance: {min_distance:.2f}\")\n"
      ]
    }
  ]
}